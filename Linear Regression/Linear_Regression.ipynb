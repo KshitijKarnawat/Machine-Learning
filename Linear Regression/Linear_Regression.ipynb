{
  "nbformat": 4,
  "nbformat_minor": 0,
  "metadata": {
    "colab": {
      "name": "Linear Regression.ipynb",
      "provenance": [],
      "toc_visible": true,
      "authorship_tag": "ABX9TyPU4+hFLKvqjeeHX1at422z"
    },
    "kernelspec": {
      "name": "python3",
      "display_name": "Python 3"
    }
  },
  "cells": [
    {
      "cell_type": "markdown",
      "metadata": {
        "id": "G7fwbOTzBxZ-",
        "colab_type": "text"
      },
      "source": [
        "# Linear Regression"
      ]
    },
    {
      "cell_type": "markdown",
      "metadata": {
        "id": "oztn_eX6BxRy",
        "colab_type": "text"
      },
      "source": [
        "### Importing Libraries\n"
      ]
    },
    {
      "cell_type": "code",
      "metadata": {
        "id": "51bcp3qUgPO9",
        "colab_type": "code",
        "colab": {}
      },
      "source": [
        "import numpy as np\n",
        "import pandas as pd\n",
        "import matplotlib.pyplot as plt\n",
        "from sklearn.metrics import plot_confusion_matrix"
      ],
      "execution_count": 3,
      "outputs": []
    },
    {
      "cell_type": "markdown",
      "metadata": {
        "id": "Sxt3lkZ4Cp1-",
        "colab_type": "text"
      },
      "source": [
        "### Loading Data\n",
        "\n",
        "The Data files are uploaded in the Colab hence the file paths are as such.\n",
        "Before executing the code make sure the files have been uploaded and be sure to check that they are in the same directory else replace the directory with the location where you uploaded the data. \n",
        "\n",
        "__*NOTE: The data is uploaded on GitHub*__"
      ]
    },
    {
      "cell_type": "code",
      "metadata": {
        "id": "xdPgtPYzCpd7",
        "colab_type": "code",
        "colab": {}
      },
      "source": [
        "training_data = pd.read_csv('/content/train.csv') #change the directory as per needed\n",
        "test_data = pd.read_csv('/content/test.csv') #change the directory as per needed"
      ],
      "execution_count": 4,
      "outputs": []
    },
    {
      "cell_type": "markdown",
      "metadata": {
        "id": "5-kEGcvgNBia",
        "colab_type": "text"
      },
      "source": [
        "The methods `head()`, `info()`, `desribe()` are used to study the cntents of the datasets."
      ]
    },
    {
      "cell_type": "code",
      "metadata": {
        "id": "V69bRHCsEzC_",
        "colab_type": "code",
        "colab": {
          "base_uri": "https://localhost:8080/",
          "height": 204
        },
        "outputId": "afdcd171-b5ff-4ccb-cabc-c993cf40d6b2"
      },
      "source": [
        "training_data.head()"
      ],
      "execution_count": 5,
      "outputs": [
        {
          "output_type": "execute_result",
          "data": {
            "text/html": [
              "<div>\n",
              "<style scoped>\n",
              "    .dataframe tbody tr th:only-of-type {\n",
              "        vertical-align: middle;\n",
              "    }\n",
              "\n",
              "    .dataframe tbody tr th {\n",
              "        vertical-align: top;\n",
              "    }\n",
              "\n",
              "    .dataframe thead th {\n",
              "        text-align: right;\n",
              "    }\n",
              "</style>\n",
              "<table border=\"1\" class=\"dataframe\">\n",
              "  <thead>\n",
              "    <tr style=\"text-align: right;\">\n",
              "      <th></th>\n",
              "      <th>x</th>\n",
              "      <th>y</th>\n",
              "    </tr>\n",
              "  </thead>\n",
              "  <tbody>\n",
              "    <tr>\n",
              "      <th>0</th>\n",
              "      <td>24.0</td>\n",
              "      <td>21.549452</td>\n",
              "    </tr>\n",
              "    <tr>\n",
              "      <th>1</th>\n",
              "      <td>50.0</td>\n",
              "      <td>47.464463</td>\n",
              "    </tr>\n",
              "    <tr>\n",
              "      <th>2</th>\n",
              "      <td>15.0</td>\n",
              "      <td>17.218656</td>\n",
              "    </tr>\n",
              "    <tr>\n",
              "      <th>3</th>\n",
              "      <td>38.0</td>\n",
              "      <td>36.586398</td>\n",
              "    </tr>\n",
              "    <tr>\n",
              "      <th>4</th>\n",
              "      <td>87.0</td>\n",
              "      <td>87.288984</td>\n",
              "    </tr>\n",
              "  </tbody>\n",
              "</table>\n",
              "</div>"
            ],
            "text/plain": [
              "      x          y\n",
              "0  24.0  21.549452\n",
              "1  50.0  47.464463\n",
              "2  15.0  17.218656\n",
              "3  38.0  36.586398\n",
              "4  87.0  87.288984"
            ]
          },
          "metadata": {
            "tags": []
          },
          "execution_count": 5
        }
      ]
    },
    {
      "cell_type": "markdown",
      "metadata": {
        "id": "lwYduXeCNub1",
        "colab_type": "text"
      },
      "source": [
        "The `head()` method gives us the first 5 rows of the dataset. Giving a integer value to this method displays that many number of rows.\n",
        "\n",
        "Alternatively you can use the method `tail()` to view the last 5 rows.\n",
        "\n",
        "Example: `head(25)` will display the first 25 rows"
      ]
    },
    {
      "cell_type": "code",
      "metadata": {
        "id": "X-35x3ifM-52",
        "colab_type": "code",
        "colab": {
          "base_uri": "https://localhost:8080/",
          "height": 297
        },
        "outputId": "59f70810-2d81-45fe-a08a-f2a6d47dc7d5"
      },
      "source": [
        "training_data.describe()"
      ],
      "execution_count": 6,
      "outputs": [
        {
          "output_type": "execute_result",
          "data": {
            "text/html": [
              "<div>\n",
              "<style scoped>\n",
              "    .dataframe tbody tr th:only-of-type {\n",
              "        vertical-align: middle;\n",
              "    }\n",
              "\n",
              "    .dataframe tbody tr th {\n",
              "        vertical-align: top;\n",
              "    }\n",
              "\n",
              "    .dataframe thead th {\n",
              "        text-align: right;\n",
              "    }\n",
              "</style>\n",
              "<table border=\"1\" class=\"dataframe\">\n",
              "  <thead>\n",
              "    <tr style=\"text-align: right;\">\n",
              "      <th></th>\n",
              "      <th>x</th>\n",
              "      <th>y</th>\n",
              "    </tr>\n",
              "  </thead>\n",
              "  <tbody>\n",
              "    <tr>\n",
              "      <th>count</th>\n",
              "      <td>700.000000</td>\n",
              "      <td>699.000000</td>\n",
              "    </tr>\n",
              "    <tr>\n",
              "      <th>mean</th>\n",
              "      <td>54.985939</td>\n",
              "      <td>49.939869</td>\n",
              "    </tr>\n",
              "    <tr>\n",
              "      <th>std</th>\n",
              "      <td>134.681703</td>\n",
              "      <td>29.109217</td>\n",
              "    </tr>\n",
              "    <tr>\n",
              "      <th>min</th>\n",
              "      <td>0.000000</td>\n",
              "      <td>-3.839981</td>\n",
              "    </tr>\n",
              "    <tr>\n",
              "      <th>25%</th>\n",
              "      <td>25.000000</td>\n",
              "      <td>24.929968</td>\n",
              "    </tr>\n",
              "    <tr>\n",
              "      <th>50%</th>\n",
              "      <td>49.000000</td>\n",
              "      <td>48.973020</td>\n",
              "    </tr>\n",
              "    <tr>\n",
              "      <th>75%</th>\n",
              "      <td>75.000000</td>\n",
              "      <td>74.929911</td>\n",
              "    </tr>\n",
              "    <tr>\n",
              "      <th>max</th>\n",
              "      <td>3530.157369</td>\n",
              "      <td>108.871618</td>\n",
              "    </tr>\n",
              "  </tbody>\n",
              "</table>\n",
              "</div>"
            ],
            "text/plain": [
              "                 x           y\n",
              "count   700.000000  699.000000\n",
              "mean     54.985939   49.939869\n",
              "std     134.681703   29.109217\n",
              "min       0.000000   -3.839981\n",
              "25%      25.000000   24.929968\n",
              "50%      49.000000   48.973020\n",
              "75%      75.000000   74.929911\n",
              "max    3530.157369  108.871618"
            ]
          },
          "metadata": {
            "tags": []
          },
          "execution_count": 6
        }
      ]
    },
    {
      "cell_type": "markdown",
      "metadata": {
        "id": "KbkCNCaSQtPC",
        "colab_type": "text"
      },
      "source": [
        "The `describe()` method gives a breif description of the dataset such as the count, mean standard deviation, min and max value etc."
      ]
    },
    {
      "cell_type": "code",
      "metadata": {
        "id": "5dPi-3DtNaZN",
        "colab_type": "code",
        "colab": {
          "base_uri": "https://localhost:8080/",
          "height": 170
        },
        "outputId": "16ad26fb-d182-4d9f-8e70-9b17da9d045d"
      },
      "source": [
        "training_data.info()"
      ],
      "execution_count": 7,
      "outputs": [
        {
          "output_type": "stream",
          "text": [
            "<class 'pandas.core.frame.DataFrame'>\n",
            "RangeIndex: 700 entries, 0 to 699\n",
            "Data columns (total 2 columns):\n",
            " #   Column  Non-Null Count  Dtype  \n",
            "---  ------  --------------  -----  \n",
            " 0   x       700 non-null    float64\n",
            " 1   y       699 non-null    float64\n",
            "dtypes: float64(2)\n",
            "memory usage: 11.1 KB\n"
          ],
          "name": "stdout"
        }
      ]
    },
    {
      "cell_type": "markdown",
      "metadata": {
        "id": "v1C_FmtORR7l",
        "colab_type": "text"
      },
      "source": [
        "The `info()` method gives the information of what kind of data is stored in the dataset"
      ]
    },
    {
      "cell_type": "markdown",
      "metadata": {
        "id": "zgtR8xSo5vFn",
        "colab_type": "text"
      },
      "source": [
        "As we saw in `training_data.info()` the column y has 1 value less this will produce a NaN error while training the model. To overcome this we will be using the `dropna()` method which removes the row where there is a NaN or Null value."
      ]
    },
    {
      "cell_type": "code",
      "metadata": {
        "id": "tqrh1J489-se",
        "colab_type": "code",
        "colab": {}
      },
      "source": [
        "training_data = training_data.dropna()"
      ],
      "execution_count": 8,
      "outputs": []
    },
    {
      "cell_type": "code",
      "metadata": {
        "id": "YJq-GKGj-iaH",
        "colab_type": "code",
        "colab": {
          "base_uri": "https://localhost:8080/",
          "height": 170
        },
        "outputId": "494ee958-4d33-4b4f-f6d6-4bc82f55c375"
      },
      "source": [
        "training_data.info()"
      ],
      "execution_count": 9,
      "outputs": [
        {
          "output_type": "stream",
          "text": [
            "<class 'pandas.core.frame.DataFrame'>\n",
            "Int64Index: 699 entries, 0 to 699\n",
            "Data columns (total 2 columns):\n",
            " #   Column  Non-Null Count  Dtype  \n",
            "---  ------  --------------  -----  \n",
            " 0   x       699 non-null    float64\n",
            " 1   y       699 non-null    float64\n",
            "dtypes: float64(2)\n",
            "memory usage: 16.4 KB\n"
          ],
          "name": "stdout"
        }
      ]
    },
    {
      "cell_type": "markdown",
      "metadata": {
        "id": "PVyBrVhQR3sp",
        "colab_type": "text"
      },
      "source": [
        "Now we can see that there are two columns in the data x and y.\n",
        "\n",
        "x is the feature and y is the label. You can seperate the features and labels using the following code."
      ]
    },
    {
      "cell_type": "code",
      "metadata": {
        "id": "IkqNPbHZNbmo",
        "colab_type": "code",
        "colab": {}
      },
      "source": [
        "X_train = training_data.iloc[:,0].values\n",
        "y_train = training_data.iloc[:,1].values"
      ],
      "execution_count": 10,
      "outputs": []
    },
    {
      "cell_type": "markdown",
      "metadata": {
        "id": "hle6iKhcva4a",
        "colab_type": "text"
      },
      "source": [
        "### Visulaizing the Data"
      ]
    },
    {
      "cell_type": "code",
      "metadata": {
        "id": "U3GSAYl2vbFH",
        "colab_type": "code",
        "colab": {
          "base_uri": "https://localhost:8080/",
          "height": 445
        },
        "outputId": "eb0e6522-8cac-435a-c08d-5d75d1d2d44f"
      },
      "source": [
        "plt.figure(figsize=(7,7))\n",
        "plt.scatter(X_train,y_train)"
      ],
      "execution_count": 11,
      "outputs": [
        {
          "output_type": "execute_result",
          "data": {
            "text/plain": [
              "<matplotlib.collections.PathCollection at 0x7f93425d8dd8>"
            ]
          },
          "metadata": {
            "tags": []
          },
          "execution_count": 11
        },
        {
          "output_type": "display_data",
          "data": {
            "image/png": "[encoded data removed]",
            "text/plain": [
              "<Figure size 504x504 with 1 Axes>"
            ]
          },
          "metadata": {
            "tags": [],
            "needs_background": "light"
          }
        }
      ]
    },
    {
      "cell_type": "markdown",
      "metadata": {
        "id": "fpyBg7MGsYO1",
        "colab_type": "text"
      },
      "source": [
        "### Creating the Model"
      ]
    },
    {
      "cell_type": "markdown",
      "metadata": {
        "id": "kMMcynBOt6Z4",
        "colab_type": "text"
      },
      "source": [
        "To model Linear Regression we will be making use of a library know as sci-kit learn. The library provides us with various models for Machine Learning and also provides optimization and evaluation tools for the same (These were imported at the start of the code)."
      ]
    },
    {
      "cell_type": "markdown",
      "metadata": {
        "id": "PuLYhrhyw1L7",
        "colab_type": "text"
      },
      "source": [
        "The below line imports the Linear Regression Model into the code"
      ]
    },
    {
      "cell_type": "code",
      "metadata": {
        "id": "0aBavhq-SLf6",
        "colab_type": "code",
        "colab": {}
      },
      "source": [
        "from sklearn.linear_model import LinearRegression"
      ],
      "execution_count": 12,
      "outputs": []
    },
    {
      "cell_type": "markdown",
      "metadata": {
        "id": "sLrakOfgty8r",
        "colab_type": "text"
      },
      "source": [
        "To train the model we first create an instance of the model in our case it is `lr`. We then fit our data to this model using the `fit` or `fit_generator` methods.\n",
        "\n",
        "The `fit` method gives an error `ValueError: Expected 2D array, got 1D array instead:`when there is only 1 feature so to rectify it we reshape this data by using `X_train.reshape(-1,1)` instead of just `X_train`"
      ]
    },
    {
      "cell_type": "code",
      "metadata": {
        "id": "H1a4Hh1gw8Hn",
        "colab_type": "code",
        "colab": {
          "base_uri": "https://localhost:8080/",
          "height": 34
        },
        "outputId": "9a4666d0-5b04-428b-eb0d-9cdf456fd326"
      },
      "source": [
        "lr = LinearRegression()\n",
        "lr.fit(X_train.reshape(-1,1),y_train)"
      ],
      "execution_count": 14,
      "outputs": [
        {
          "output_type": "execute_result",
          "data": {
            "text/plain": [
              "LinearRegression(copy_X=True, fit_intercept=True, n_jobs=None, normalize=False)"
            ]
          },
          "metadata": {
            "tags": []
          },
          "execution_count": 14
        }
      ]
    },
    {
      "cell_type": "markdown",
      "metadata": {
        "id": "MOes6OBa4PkL",
        "colab_type": "text"
      },
      "source": [
        "Now for evaluating our model we will give it data which it has not seen before. This is our Testing data"
      ]
    },
    {
      "cell_type": "code",
      "metadata": {
        "id": "P3spw_sIxCT3",
        "colab_type": "code",
        "colab": {
          "base_uri": "https://localhost:8080/",
          "height": 170
        },
        "outputId": "25db07fa-5017-430f-c2cd-a3f6ab920397"
      },
      "source": [
        "test_data.info()"
      ],
      "execution_count": 15,
      "outputs": [
        {
          "output_type": "stream",
          "text": [
            "<class 'pandas.core.frame.DataFrame'>\n",
            "RangeIndex: 300 entries, 0 to 299\n",
            "Data columns (total 2 columns):\n",
            " #   Column  Non-Null Count  Dtype  \n",
            "---  ------  --------------  -----  \n",
            " 0   x       300 non-null    int64  \n",
            " 1   y       300 non-null    float64\n",
            "dtypes: float64(1), int64(1)\n",
            "memory usage: 4.8 KB\n"
          ],
          "name": "stdout"
        }
      ]
    },
    {
      "cell_type": "code",
      "metadata": {
        "id": "FOh2F4knAqUR",
        "colab_type": "code",
        "colab": {}
      },
      "source": [
        "X_test = test_data.iloc[:,0].values\n",
        "y_test = test_data.iloc[:,1].values"
      ],
      "execution_count": 16,
      "outputs": []
    },
    {
      "cell_type": "markdown",
      "metadata": {
        "id": "PUIwigsl4bNJ",
        "colab_type": "text"
      },
      "source": [
        "the `score` method gives us on accuracy score of the model by comparing the models output with the labels `y_test`"
      ]
    },
    {
      "cell_type": "code",
      "metadata": {
        "id": "NWgkpABqA-8D",
        "colab_type": "code",
        "colab": {
          "base_uri": "https://localhost:8080/",
          "height": 34
        },
        "outputId": "84c867ca-49fa-44c7-97f0-cc298f2eee87"
      },
      "source": [
        "lr.score(X_test.reshape(-1,1),y_test)"
      ],
      "execution_count": 17,
      "outputs": [
        {
          "output_type": "execute_result",
          "data": {
            "text/plain": [
              "0.9888014444327563"
            ]
          },
          "metadata": {
            "tags": []
          },
          "execution_count": 17
        }
      ]
    }
  ]
}