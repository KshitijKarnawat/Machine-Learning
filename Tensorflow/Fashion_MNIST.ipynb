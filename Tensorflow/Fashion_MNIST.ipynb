{
  "nbformat": 4,
  "nbformat_minor": 0,
  "metadata": {
    "colab": {
      "name": "Fashion MNIST.ipynb",
      "provenance": []
    },
    "kernelspec": {
      "name": "python3",
      "display_name": "Python 3"
    }
  },
  "cells": [
    {
      "cell_type": "markdown",
      "metadata": {
        "id": "9vd_n3HXYIxh",
        "colab_type": "text"
      },
      "source": [
        "# Fashion MNIST \n",
        "Machine Learning and Neural Networks make complex problems like Computer Vision easy to solve.\n",
        "\n",
        "Fashion MNIST is a dataset containg photos of different items of clothing like shoes, shits, pants etc.\n",
        "A picture is first converted to a size of 28 by 28 pixels. This image is then converted into greyscale. We do this as this reduces a lot of data that is to be feed into the neural network.\n",
        "\n",
        "We will be training a neural network to successfully classify these objects."
      ]
    },
    {
      "cell_type": "markdown",
      "metadata": {
        "id": "Zo1oLhmYZk3x",
        "colab_type": "text"
      },
      "source": [
        "## Importing Libraries"
      ]
    },
    {
      "cell_type": "code",
      "metadata": {
        "id": "b8iV125RX3tP",
        "colab_type": "code",
        "colab": {}
      },
      "source": [
        "import numpy as np\n",
        "import tensorflow as tf\n",
        "from tensorflow import keras"
      ],
      "execution_count": 2,
      "outputs": []
    },
    {
      "cell_type": "markdown",
      "metadata": {
        "id": "GgY49k9oZ41f",
        "colab_type": "text"
      },
      "source": [
        "To load the Fashion MNIST data we will be using a TensorFlow function call.\n",
        "\n",
        "The second line splits the dataset into two parts\n",
        "- The training dataset\n",
        "- The test dataset\n",
        "\n",
        "\n",
        "The MNIST dataset contains a total of 70,000 images. the dataset is split in such a manner that 60,000 images are in the training set and the rest 10,000 images are in the test set"
      ]
    },
    {
      "cell_type": "code",
      "metadata": {
        "id": "q7wcjXSgZ1m6",
        "colab_type": "code",
        "colab": {
          "base_uri": "https://localhost:8080/",
          "height": 153
        },
        "outputId": "bdbdfe98-ebea-4bd0-a24c-988eecc02e4f"
      },
      "source": [
        "fashion_mnist = keras.datasets.fashion_mnist\n",
        "(X_train, y_train),(X_test, y_test) = fashion_mnist.load_data()"
      ],
      "execution_count": 3,
      "outputs": [
        {
          "output_type": "stream",
          "text": [
            "Downloading data from https://storage.googleapis.com/tensorflow/tf-keras-datasets/train-labels-idx1-ubyte.gz\n",
            "32768/29515 [=================================] - 0s 0us/step\n",
            "Downloading data from https://storage.googleapis.com/tensorflow/tf-keras-datasets/train-images-idx3-ubyte.gz\n",
            "26427392/26421880 [==============================] - 1s 0us/step\n",
            "Downloading data from https://storage.googleapis.com/tensorflow/tf-keras-datasets/t10k-labels-idx1-ubyte.gz\n",
            "8192/5148 [===============================================] - 0s 0us/step\n",
            "Downloading data from https://storage.googleapis.com/tensorflow/tf-keras-datasets/t10k-images-idx3-ubyte.gz\n",
            "4423680/4422102 [==============================] - 0s 0us/step\n"
          ],
          "name": "stdout"
        }
      ]
    },
    {
      "cell_type": "markdown",
      "metadata": {
        "id": "wqSTf8lgMpbG",
        "colab_type": "text"
      },
      "source": [
        "Visualizing data is always considered a good practice in Machine Learning. To visualize this data we run the code below.\n",
        "\n",
        "Matplotlib is a library in python which helps in visulaising data. The numbers are the values of the pixels which range from 0 to 255. 0 being White and 255 being Black"
      ]
    },
    {
      "cell_type": "code",
      "metadata": {
        "id": "oMXI1K4IMpGK",
        "colab_type": "code",
        "colab": {
          "base_uri": "https://localhost:8080/",
          "height": 887
        },
        "outputId": "101248d8-1c88-4d3b-b09a-52bd28eaec85"
      },
      "source": [
        "import numpy as np\n",
        "np.set_printoptions(linewidth=200) # sets the linewidth\n",
        "import matplotlib.pyplot as plt\n",
        "plt.figure(figsize=(7,7)) # changes the figures size\n",
        "plt.axis('off') #hides axis\n",
        "plt.imshow(X_train[0]) #change 0 to any number to view the image at that index\n",
        "print(X_train[0]) #change 0 to any number to view the data at that index"
      ],
      "execution_count": 12,
      "outputs": [
        {
          "output_type": "stream",
          "text": [
            "[[  0   0   0   0   0   0   0   0   0   0   0   0   0   0   0   0   0   0   0   0   0   0   0   0   0   0   0   0]\n",
            " [  0   0   0   0   0   0   0   0   0   0   0   0   0   0   0   0   0   0   0   0   0   0   0   0   0   0   0   0]\n",
            " [  0   0   0   0   0   0   0   0   0   0   0   0   0   0   0   0   0   0   0   0   0   0   0   0   0   0   0   0]\n",
            " [  0   0   0   0   0   0   0   0   0   0   0   0   1   0   0  13  73   0   0   1   4   0   0   0   0   1   1   0]\n",
            " [  0   0   0   0   0   0   0   0   0   0   0   0   3   0  36 136 127  62  54   0   0   0   1   3   4   0   0   3]\n",
            " [  0   0   0   0   0   0   0   0   0   0   0   0   6   0 102 204 176 134 144 123  23   0   0   0   0  12  10   0]\n",
            " [  0   0   0   0   0   0   0   0   0   0   0   0   0   0 155 236 207 178 107 156 161 109  64  23  77 130  72  15]\n",
            " [  0   0   0   0   0   0   0   0   0   0   0   1   0  69 207 223 218 216 216 163 127 121 122 146 141  88 172  66]\n",
            " [  0   0   0   0   0   0   0   0   0   1   1   1   0 200 232 232 233 229 223 223 215 213 164 127 123 196 229   0]\n",
            " [  0   0   0   0   0   0   0   0   0   0   0   0   0 183 225 216 223 228 235 227 224 222 224 221 223 245 173   0]\n",
            " [  0   0   0   0   0   0   0   0   0   0   0   0   0 193 228 218 213 198 180 212 210 211 213 223 220 243 202   0]\n",
            " [  0   0   0   0   0   0   0   0   0   1   3   0  12 219 220 212 218 192 169 227 208 218 224 212 226 197 209  52]\n",
            " [  0   0   0   0   0   0   0   0   0   0   6   0  99 244 222 220 218 203 198 221 215 213 222 220 245 119 167  56]\n",
            " [  0   0   0   0   0   0   0   0   0   4   0   0  55 236 228 230 228 240 232 213 218 223 234 217 217 209  92   0]\n",
            " [  0   0   1   4   6   7   2   0   0   0   0   0 237 226 217 223 222 219 222 221 216 223 229 215 218 255  77   0]\n",
            " [  0   3   0   0   0   0   0   0   0  62 145 204 228 207 213 221 218 208 211 218 224 223 219 215 224 244 159   0]\n",
            " [  0   0   0   0  18  44  82 107 189 228 220 222 217 226 200 205 211 230 224 234 176 188 250 248 233 238 215   0]\n",
            " [  0  57 187 208 224 221 224 208 204 214 208 209 200 159 245 193 206 223 255 255 221 234 221 211 220 232 246   0]\n",
            " [  3 202 228 224 221 211 211 214 205 205 205 220 240  80 150 255 229 221 188 154 191 210 204 209 222 228 225   0]\n",
            " [ 98 233 198 210 222 229 229 234 249 220 194 215 217 241  65  73 106 117 168 219 221 215 217 223 223 224 229  29]\n",
            " [ 75 204 212 204 193 205 211 225 216 185 197 206 198 213 240 195 227 245 239 223 218 212 209 222 220 221 230  67]\n",
            " [ 48 203 183 194 213 197 185 190 194 192 202 214 219 221 220 236 225 216 199 206 186 181 177 172 181 205 206 115]\n",
            " [  0 122 219 193 179 171 183 196 204 210 213 207 211 210 200 196 194 191 195 191 198 192 176 156 167 177 210  92]\n",
            " [  0   0  74 189 212 191 175 172 175 181 185 188 189 188 193 198 204 209 210 210 211 188 188 194 192 216 170   0]\n",
            " [  2   0   0   0  66 200 222 237 239 242 246 243 244 221 220 193 191 179 182 182 181 176 166 168  99  58   0   0]\n",
            " [  0   0   0   0   0   0   0  40  61  44  72  41  35   0   0   0   0   0   0   0   0   0   0   0   0   0   0   0]\n",
            " [  0   0   0   0   0   0   0   0   0   0   0   0   0   0   0   0   0   0   0   0   0   0   0   0   0   0   0   0]\n",
            " [  0   0   0   0   0   0   0   0   0   0   0   0   0   0   0   0   0   0   0   0   0   0   0   0   0   0   0   0]]\n"
          ],
          "name": "stdout"
        },
        {
          "output_type": "display_data",
          "data": {
            "image/png": "[encoded data removed]",
            "text/plain": [
              "<Figure size 504x504 with 1 Axes>"
            ]
          },
          "metadata": {
            "tags": [],
            "needs_background": "light"
          }
        }
      ]
    },
    {
      "cell_type": "markdown",
      "metadata": {
        "id": "sYjEPF2xQXkY",
        "colab_type": "text"
      },
      "source": [
        "A neural network or a Machine Learning model in general works better if the data is normalized. We divide the values of the pixels by 255 to get the range between 0 and 1."
      ]
    },
    {
      "cell_type": "code",
      "metadata": {
        "id": "TF3I6kpHQXPZ",
        "colab_type": "code",
        "colab": {}
      },
      "source": [
        "X_train  = X_train / 255\n",
        "X_test = X_test / 255"
      ],
      "execution_count": 14,
      "outputs": []
    },
    {
      "cell_type": "markdown",
      "metadata": {
        "id": "Im4UiVHyF-E8",
        "colab_type": "text"
      },
      "source": [
        "Now adding the neural network\n",
        "\n",
        "The neural layer will consist of three layers\n",
        "1. Input layer\n",
        "2. Hidden layer\n",
        "3. Output layer\n",
        "\n",
        "The method **Sequential** defines the sequence of the layers\n",
        "\n",
        "The Input layer in your network should be the same shape as your data.\n",
        "The input layer will expect an input of a 28 by 28 matrix _(defined by the  input_shape attribute)_ as the images are of this size. The **Flatten** method then converts this matrix into a simple linear array avoiding the use of 28 layers of 28 neurons which would be infeasible.\n",
        "\n",
        "The hidden layer consists of **128** neurons in which the classification takes place. The **Dense** method is used to add a layer in network the first attribute assigns the number of neuron present in a layer. The activation type of this layer is **Relu**. \n",
        "\n",
        "Relu effectively means \"If X>0 return X, else return 0\" -- so what it does it it only passes values 0 or greater to the next layer in the network.\n",
        "\n",
        "The output layer will contain **10** neurons (set by the Dense method) each depicting the 10 classes in the dataset. The number of neurons in the output layer should always be equal to the number of classes in the problem. _(Except when there are only two classes then the result will be 0 or 1 depicting the first class and second class respectively.)_ The activation function of this layer is **Softmax**. \n",
        "\n",
        "Softmax takes a set of values, and effectively picks the biggest one, so, for example, if the output of the last layer looks like, \n",
        "\n",
        "[0.1, 0.1, 0.05, 0.1, 9.5, 0.1, 0.05, 0.05, 0.05]\n",
        "\n",
        "it saves you from fishing through it looking for the biggest value, and turns it into.\n",
        "\n",
        "[0,0,0,0,1,0,0,0,0]\n",
        "\n",
        "The index of 1 is the class identified by the network."
      ]
    },
    {
      "cell_type": "code",
      "metadata": {
        "id": "QA16VcdRFTiO",
        "colab_type": "code",
        "colab": {}
      },
      "source": [
        "model = keras.Sequential([keras.layers.Flatten(input_shape=(28,28)),\n",
        "                          keras.layers.Dense(128, activation=tf.nn.relu), #change 128 to increase the number of neurons in the hidden layer\n",
        "                          keras.layers.Dense(10,activation=tf.nn.softmax)\n",
        "                          ])"
      ],
      "execution_count": 15,
      "outputs": []
    },
    {
      "cell_type": "markdown",
      "metadata": {
        "id": "nvKmeer6WJ0T",
        "colab_type": "text"
      },
      "source": [
        "Changing the number of neurons in the hidden layer will affect the time taken to run and the accuracy of the network.\n",
        "- A higher number will give you a better accuracy but will consume more time\n",
        "\n",
        "There isn't a significant impact effects of additional layers (hidden layer 2, 3 etc.)in the network because this is relatively simple data. For far more complex data (including color images to be classified as flowers that you'll see in the next lesson), extra layers are often necessary."
      ]
    },
    {
      "cell_type": "markdown",
      "metadata": {
        "id": "MTrWVCbORhyh",
        "colab_type": "text"
      },
      "source": [
        "Now to set the optimizer and loss function of the neural network we use the following code. This is done by the **compile** method. The metrics attribute gives us an idea of how good our prediction is.\n",
        "\n",
        "After this the data is fit in the network using the **fit** method. The first attribute are the features of the data, the scond attribute are the labels of the data. Epochs is the number of time this model runs optimizing itself with the help of the optimizer and loss functions."
      ]
    },
    {
      "cell_type": "code",
      "metadata": {
        "id": "bSWEiH-PRiV4",
        "colab_type": "code",
        "colab": {
          "base_uri": "https://localhost:8080/",
          "height": 204
        },
        "outputId": "992db41d-3d9b-4351-af8d-2ce24bbce53d"
      },
      "source": [
        "model.compile(optimizer = tf.optimizers.Adam(),\n",
        "              loss = 'sparse_categorical_crossentropy',\n",
        "              metrics=['accuracy'])\n",
        "\n",
        "model.fit(X_train, y_train, epochs=5)"
      ],
      "execution_count": 17,
      "outputs": [
        {
          "output_type": "stream",
          "text": [
            "Epoch 1/5\n",
            "1875/1875 [==============================] - 3s 2ms/step - loss: 0.4994 - accuracy: 0.8238\n",
            "Epoch 2/5\n",
            "1875/1875 [==============================] - 3s 2ms/step - loss: 0.3766 - accuracy: 0.8636\n",
            "Epoch 3/5\n",
            "1875/1875 [==============================] - 3s 2ms/step - loss: 0.3389 - accuracy: 0.8764\n",
            "Epoch 4/5\n",
            "1875/1875 [==============================] - 3s 2ms/step - loss: 0.3129 - accuracy: 0.8845\n",
            "Epoch 5/5\n",
            "1875/1875 [==============================] - 3s 2ms/step - loss: 0.2963 - accuracy: 0.8911\n"
          ],
          "name": "stdout"
        },
        {
          "output_type": "execute_result",
          "data": {
            "text/plain": [
              "<tensorflow.python.keras.callbacks.History at 0x7f9b6f410dd8>"
            ]
          },
          "metadata": {
            "tags": []
          },
          "execution_count": 17
        }
      ]
    },
    {
      "cell_type": "markdown",
      "metadata": {
        "id": "5-jJX3njVGJj",
        "colab_type": "text"
      },
      "source": [
        "Now after fitting this data we test it on data which it hasn't seen ie the data which is not in the training set. We use the **evaluate** method for this."
      ]
    },
    {
      "cell_type": "code",
      "metadata": {
        "id": "HfAeDkkTVYxv",
        "colab_type": "code",
        "colab": {
          "base_uri": "https://localhost:8080/",
          "height": 51
        },
        "outputId": "b818deea-8d00-40c6-9738-76c3791ab2b4"
      },
      "source": [
        "model.evaluate(X_test, y_test)"
      ],
      "execution_count": 18,
      "outputs": [
        {
          "output_type": "stream",
          "text": [
            "313/313 [==============================] - 0s 1ms/step - loss: 0.3417 - accuracy: 0.8789\n"
          ],
          "name": "stdout"
        },
        {
          "output_type": "execute_result",
          "data": {
            "text/plain": [
              "[0.3417207896709442, 0.8788999915122986]"
            ]
          },
          "metadata": {
            "tags": []
          },
          "execution_count": 18
        }
      ]
    }
  ]
}