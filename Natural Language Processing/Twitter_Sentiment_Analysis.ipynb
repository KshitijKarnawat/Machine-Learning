{
  "nbformat": 4,
  "nbformat_minor": 0,
  "metadata": {
    "colab": {
      "name": "Twitter_Analysis.ipynb",
      "provenance": [],
      "collapsed_sections": [],
      "toc_visible": true,
      "include_colab_link": true
    },
    "kernelspec": {
      "name": "python3",
      "display_name": "Python 3"
    }
  },
  "cells": [
    {
      "cell_type": "markdown",
      "metadata": {
        "id": "view-in-github",
        "colab_type": "text"
      },
      "source": [
        "<a href=\"https://colab.research.google.com/github/Nova1323/Machine-Learning/blob/master/Natural%20Language%20Processing/Twitter_Sentiment_Analysis.ipynb\" target=\"_parent\"><img src=\"https://colab.research.google.com/assets/colab-badge.svg\" alt=\"Open In Colab\"/></a>"
      ]
    },
    {
      "cell_type": "code",
      "metadata": {
        "id": "T_h2rf6gMm39",
        "colab_type": "code",
        "colab": {}
      },
      "source": [
        "import os\n",
        "import pandas as pd\n",
        "import tweepy as tw"
      ],
      "execution_count": null,
      "outputs": []
    },
    {
      "cell_type": "code",
      "metadata": {
        "id": "QqYZ9FeIuUAO",
        "colab_type": "code",
        "colab": {}
      },
      "source": [
        "# Authenticate to Twitter\n",
        "auth = tw.OAuthHandler(\"trAm8wZD11mQgN1ocV6FVngZ3\", \"J800JrNuCniKxL2FlAon6IDBjGnXys52imGXy0srthuWCRckZZ\")\n",
        "auth.set_access_token(\"2744929320-rAV9p5JTDV5BNzVEHhs5xOhkShzTasLWPr9UbW8\", \"fd4WhOwyEL5fTLfoGF9NgB8zLG5YRWRG3CG82FTkF5I9I\")\n",
        "\n",
        "# Create API object\n",
        "api = tw.API(auth,wait_on_rate_limit=True)"
      ],
      "execution_count": null,
      "outputs": []
    },
    {
      "cell_type": "code",
      "metadata": {
        "id": "mX8wpgLrR5HU",
        "colab_type": "code",
        "colab": {}
      },
      "source": [
        "search_words = \"#coronavirus OR #covid19 OR #lockdown\" #enter the words to be searched here\n",
        "date_since = \"2020-07-07\" #enter the date from which you want the data to be searched from yyyy/mm/dd\n",
        "geocodes = \"20.593700, 78.962900, 100mi\""
      ],
      "execution_count": null,
      "outputs": []
    },
    {
      "cell_type": "code",
      "metadata": {
        "id": "vAOlJY7aSfiT",
        "colab_type": "code",
        "colab": {}
      },
      "source": [
        "tweets = tw.Cursor(api.search,\n",
        "              q=search_words,\n",
        "              geocode=geocodes,\n",
        "              lang=\"en\",\n",
        "              since=date_since).items(360) #change items for the max number of tweet pulls"
      ],
      "execution_count": null,
      "outputs": []
    },
    {
      "cell_type": "code",
      "metadata": {
        "id": "sRwitVyKS7c2",
        "colab_type": "code",
        "colab": {
          "base_uri": "https://localhost:8080/",
          "height": 34
        },
        "outputId": "b3769115-1eeb-419b-8f68-179bd0886e5a"
      },
      "source": [
        "tweet_details = [[tweet.text, tweet.user.location] for tweet in tweets]\n",
        "#extracts the text and location of the tweet\n",
        "tweet_details"
      ],
      "execution_count": null,
      "outputs": [
        {
          "output_type": "execute_result",
          "data": {
            "text/plain": [
              "[]"
            ]
          },
          "metadata": {
            "tags": []
          },
          "execution_count": 15
        }
      ]
    },
    {
      "cell_type": "code",
      "metadata": {
        "id": "6wdFdf460ZoI",
        "colab_type": "code",
        "colab": {
          "base_uri": "https://localhost:8080/",
          "height": 49
        },
        "outputId": "6840ae0e-9676-48bc-ebb1-57eb9141153a"
      },
      "source": [
        "tweet_df = pd.DataFrame(data=tweet_details, columns=['text', \"location\"])\n",
        "pd.set_option('max_colwidth', 800)\n",
        "tweet_df.head(25)"
      ],
      "execution_count": null,
      "outputs": [
        {
          "output_type": "execute_result",
          "data": {
            "text/html": [
              "<div>\n",
              "<style scoped>\n",
              "    .dataframe tbody tr th:only-of-type {\n",
              "        vertical-align: middle;\n",
              "    }\n",
              "\n",
              "    .dataframe tbody tr th {\n",
              "        vertical-align: top;\n",
              "    }\n",
              "\n",
              "    .dataframe thead th {\n",
              "        text-align: right;\n",
              "    }\n",
              "</style>\n",
              "<table border=\"1\" class=\"dataframe\">\n",
              "  <thead>\n",
              "    <tr style=\"text-align: right;\">\n",
              "      <th></th>\n",
              "      <th>text</th>\n",
              "      <th>location</th>\n",
              "    </tr>\n",
              "  </thead>\n",
              "  <tbody>\n",
              "  </tbody>\n",
              "</table>\n",
              "</div>"
            ],
            "text/plain": [
              "Empty DataFrame\n",
              "Columns: [text, location]\n",
              "Index: []"
            ]
          },
          "metadata": {
            "tags": []
          },
          "execution_count": 10
        }
      ]
    },
    {
      "cell_type": "code",
      "metadata": {
        "id": "BUU5aYBFJJ2V",
        "colab_type": "code",
        "colab": {
          "base_uri": "https://localhost:8080/",
          "height": 221
        },
        "outputId": "d028c0fc-d6cf-4a6d-be31-2fce941913ea"
      },
      "source": [
        "tweet_df.location.value_counts() #counts the number of tweets from a specific location"
      ],
      "execution_count": null,
      "outputs": [
        {
          "output_type": "execute_result",
          "data": {
            "text/plain": [
              "                     112\n",
              "London, England        5\n",
              "United States          5\n",
              "UK                     5\n",
              "India                  5\n",
              "                    ... \n",
              "Riyadh                 1\n",
              "GUWAHATI               1\n",
              "ଭାରତବର୍ଷ               1\n",
              "Liverpool              1\n",
              "Jamshedpur, India      1\n",
              "Name: location, Length: 212, dtype: int64"
            ]
          },
          "metadata": {
            "tags": []
          },
          "execution_count": 25
        }
      ]
    },
    {
      "cell_type": "code",
      "metadata": {
        "id": "lDSp4VwMrUrU",
        "colab_type": "code",
        "colab": {}
      },
      "source": [
        "#cleaning the data\n",
        "import re\n",
        "def clean_tweets(text):\n",
        "    text = re.sub(\"RT @[\\w]*:\",\"\",text)\n",
        "    text = re.sub(\"@[\\w]*\",\"\",text)\n",
        "    text = re.sub(\"https?://[A-Za-z0-9./]*\",\"\",text)\n",
        "    text = re.sub(\"\\n\",\"\",text)\n",
        "    return text"
      ],
      "execution_count": null,
      "outputs": []
    },
    {
      "cell_type": "code",
      "metadata": {
        "id": "Tcpl5OH-rUh_",
        "colab_type": "code",
        "colab": {
          "base_uri": "https://localhost:8080/",
          "height": 824
        },
        "outputId": "5cc22bf1-543b-4422-a6b0-bf50483d5b94"
      },
      "source": [
        "#lambda function implemtnts the clean function on every row of the dataframe \n",
        "tweet_df['text']=tweet_df['text'].apply(lambda x: clean_tweets(x))\n",
        "tweet_df.head(25)"
      ],
      "execution_count": null,
      "outputs": [
        {
          "output_type": "execute_result",
          "data": {
            "text/html": [
              "<div>\n",
              "<style scoped>\n",
              "    .dataframe tbody tr th:only-of-type {\n",
              "        vertical-align: middle;\n",
              "    }\n",
              "\n",
              "    .dataframe tbody tr th {\n",
              "        vertical-align: top;\n",
              "    }\n",
              "\n",
              "    .dataframe thead th {\n",
              "        text-align: right;\n",
              "    }\n",
              "</style>\n",
              "<table border=\"1\" class=\"dataframe\">\n",
              "  <thead>\n",
              "    <tr style=\"text-align: right;\">\n",
              "      <th></th>\n",
              "      <th>text</th>\n",
              "      <th>location</th>\n",
              "    </tr>\n",
              "  </thead>\n",
              "  <tbody>\n",
              "    <tr>\n",
              "      <th>0</th>\n",
              "      <td>Nigeria records 503 new cases of Coronavirus, total now 29,879#headlines #COVID19 #NCDC #COVID…</td>\n",
              "      <td>Abuja</td>\n",
              "    </tr>\n",
              "    <tr>\n",
              "      <th>1</th>\n",
              "      <td>Students' life is more important than exam. In this situation when #Covid19 cases raising day by day, taking examination can be d…</td>\n",
              "      <td></td>\n",
              "    </tr>\n",
              "    <tr>\n",
              "      <th>2</th>\n",
              "      <td>#COVID19 #CovidTrackerApp   Scientists warn of potential waveof COVID-linked brain damage</td>\n",
              "      <td>Dublin City, Ireland</td>\n",
              "    </tr>\n",
              "    <tr>\n",
              "      <th>3</th>\n",
              "      <td>Students' life is more important than exam. In this situation when #Covid19 cases raising day by day, taking examination…</td>\n",
              "      <td></td>\n",
              "    </tr>\n",
              "    <tr>\n",
              "      <th>4</th>\n",
              "      <td>\"She's the head cook at a local nursing home. These days, she's working up to 75 hours a week, but it still hasn't been e…</td>\n",
              "      <td>Not A Bot, USA</td>\n",
              "    </tr>\n",
              "    <tr>\n",
              "      <th>5</th>\n",
              "      <td>Let us get you started with this free webinar on Cyber Security. Save yourself millions of Naira by joining this 1…</td>\n",
              "      <td></td>\n",
              "    </tr>\n",
              "    <tr>\n",
              "      <th>6</th>\n",
              "      <td>Don’t plan to celebrate THIS MEMORIAL DAY. Instead plan to MOURN the UNNECESSARY LOSS of 100,000+ lives to #COVID19 T…</td>\n",
              "      <td>Australia</td>\n",
              "    </tr>\n",
              "    <tr>\n",
              "      <th>7</th>\n",
              "      <td>#COVID19 will bump the cosmic mental institution \"Planet Earth\" to the next level.</td>\n",
              "      <td></td>\n",
              "    </tr>\n",
              "    <tr>\n",
              "      <th>8</th>\n",
              "      <td>#Disney said Tuesday that the company will continue the phased reopening of its theme parks in #Orlando, #Florida, on Satu…</td>\n",
              "      <td></td>\n",
              "    </tr>\n",
              "    <tr>\n",
              "      <th>9</th>\n",
              "      <td>T 3586 - In these #COVID19 times a lot of work that you never did before now has to be done single-handedly .. …</td>\n",
              "      <td>Украина</td>\n",
              "    </tr>\n",
              "    <tr>\n",
              "      <th>10</th>\n",
              "      <td>They have a cure for money, daad, cancer..why not for #coronavirus ??They always target H!ndu temples, why can’t we ask…</td>\n",
              "      <td>India</td>\n",
              "    </tr>\n",
              "    <tr>\n",
              "      <th>11</th>\n",
              "      <td>Nigeria records 503 new cases of Coronavirus, total now 29,879#headlines #COVID19 #NCDC #COVID…</td>\n",
              "      <td>Abuja, Nigeria</td>\n",
              "    </tr>\n",
              "    <tr>\n",
              "      <th>12</th>\n",
              "      <td>More than 100 days after the nationwide #lockdown, Archaeological Survey of #India has allowed the opening of centr…</td>\n",
              "      <td>Tiruchirapalli, India</td>\n",
              "    </tr>\n",
              "    <tr>\n",
              "      <th>13</th>\n",
              "      <td>Since the outbreak of #COVID19, violence against women and girls, particularly domestic violence, has intensified.Everyone…</td>\n",
              "      <td>Tunisie</td>\n",
              "    </tr>\n",
              "    <tr>\n",
              "      <th>14</th>\n",
              "      <td>I had a dream of selling 1000 copies of my book #TrappedInLoveAndTrash in order to touch so many lives and help fight the…</td>\n",
              "      <td>QwaQwa,Free State.</td>\n",
              "    </tr>\n",
              "    <tr>\n",
              "      <th>15</th>\n",
              "      <td>#MP_Jobless_Poshan_Warrior#MP_Jobless_Poshan_Warrior With due respect we would inform you that POSHAN Abhiyaan MP Team…</td>\n",
              "      <td></td>\n",
              "    </tr>\n",
              "    <tr>\n",
              "      <th>16</th>\n",
              "      <td>Students' life is more important than exam. In this situation when #Covid19 cases raising day by day, taking examination can be d…</td>\n",
              "      <td></td>\n",
              "    </tr>\n",
              "    <tr>\n",
              "      <th>17</th>\n",
              "      <td>Opinium partnered with  to survey 18 to 24-year olds about #COVID19. The aim was to gain their perspective…</td>\n",
              "      <td>London</td>\n",
              "    </tr>\n",
              "    <tr>\n",
              "      <th>18</th>\n",
              "      <td>India is a third worst affected country in the world! 7 lakh #COVID19 cases, almost 20,000 deaths (600+ today).  Yet #UGCGuidel…</td>\n",
              "      <td>New Delhi, India</td>\n",
              "    </tr>\n",
              "    <tr>\n",
              "      <th>19</th>\n",
              "      <td>Florida Tops July 4th Escapes For Americans As #Coronavirus Cases Soar, #AI Reports. (Forbes) #COVIDー19 #COVID19…</td>\n",
              "      <td>Waterloo, Ontario Canada</td>\n",
              "    </tr>\n",
              "    <tr>\n",
              "      <th>20</th>\n",
              "      <td>Elderly patient with #COVID19 symptoms jumps to death in Rajasthan</td>\n",
              "      <td>पश्चिम बंगाल, भारत</td>\n",
              "    </tr>\n",
              "    <tr>\n",
              "      <th>21</th>\n",
              "      <td>T 3586 - In these #COVID19 times a lot of work that you never did before now has to be done single-handedly .. …</td>\n",
              "      <td>Kurukshetra</td>\n",
              "    </tr>\n",
              "    <tr>\n",
              "      <th>22</th>\n",
              "      <td>Protect your friends and familly from #coronavirus You must self-isolate for 14 days if you have been in close contact wit…</td>\n",
              "      <td>North Yorkshire-Leeds-North East</td>\n",
              "    </tr>\n",
              "    <tr>\n",
              "      <th>23</th>\n",
              "      <td>Patient attendant at private hospital-Candolim tested covid positive, hospital shut, doctors and staff sent for home quaran…</td>\n",
              "      <td></td>\n",
              "    </tr>\n",
              "    <tr>\n",
              "      <th>24</th>\n",
              "      <td>#Coronavirus crisis is over. Someone tell the media.</td>\n",
              "      <td></td>\n",
              "    </tr>\n",
              "  </tbody>\n",
              "</table>\n",
              "</div>"
            ],
            "text/plain": [
              "                                                                                                                                   text                          location\n",
              "0                                       Nigeria records 503 new cases of Coronavirus, total now 29,879#headlines #COVID19 #NCDC #COVID…                             Abuja\n",
              "1    Students' life is more important than exam. In this situation when #Covid19 cases raising day by day, taking examination can be d…                                  \n",
              "2                                            #COVID19 #CovidTrackerApp   Scientists warn of potential waveof COVID-linked brain damage               Dublin City, Ireland\n",
              "3             Students' life is more important than exam. In this situation when #Covid19 cases raising day by day, taking examination…                                  \n",
              "4            \"She's the head cook at a local nursing home. These days, she's working up to 75 hours a week, but it still hasn't been e…                    Not A Bot, USA\n",
              "5                  Let us get you started with this free webinar on Cyber Security. Save yourself millions of Naira by joining this 1…                                   \n",
              "6                Don’t plan to celebrate THIS MEMORIAL DAY. Instead plan to MOURN the UNNECESSARY LOSS of 100,000+ lives to #COVID19 T…                         Australia\n",
              "7                                                   #COVID19 will bump the cosmic mental institution \"Planet Earth\" to the next level.                                   \n",
              "8           #Disney said Tuesday that the company will continue the phased reopening of its theme parks in #Orlando, #Florida, on Satu…                                  \n",
              "9                      T 3586 - In these #COVID19 times a lot of work that you never did before now has to be done single-handedly .. …                           Украина\n",
              "10             They have a cure for money, daad, cancer..why not for #coronavirus ??They always target H!ndu temples, why can’t we ask…                             India\n",
              "11                                      Nigeria records 503 new cases of Coronavirus, total now 29,879#headlines #COVID19 #NCDC #COVID…                    Abuja, Nigeria\n",
              "12                More than 100 days after the nationwide #lockdown, Archaeological Survey of #India has allowed the opening of centr…              Tiruchirapalli, India\n",
              "13          Since the outbreak of #COVID19, violence against women and girls, particularly domestic violence, has intensified.Everyone…                           Tunisie\n",
              "14           I had a dream of selling 1000 copies of my book #TrappedInLoveAndTrash in order to touch so many lives and help fight the…                QwaQwa,Free State.\n",
              "15              #MP_Jobless_Poshan_Warrior#MP_Jobless_Poshan_Warrior With due respect we would inform you that POSHAN Abhiyaan MP Team…                                  \n",
              "16   Students' life is more important than exam. In this situation when #Covid19 cases raising day by day, taking examination can be d…                                  \n",
              "17                          Opinium partnered with  to survey 18 to 24-year olds about #COVID19. The aim was to gain their perspective…                            London\n",
              "18     India is a third worst affected country in the world! 7 lakh #COVID19 cases, almost 20,000 deaths (600+ today).  Yet #UGCGuidel…                  New Delhi, India\n",
              "19                   Florida Tops July 4th Escapes For Americans As #Coronavirus Cases Soar, #AI Reports. (Forbes) #COVIDー19 #COVID19…           Waterloo, Ontario Canada\n",
              "20                                                                  Elderly patient with #COVID19 symptoms jumps to death in Rajasthan                 पश्चिम बंगाल, भारत\n",
              "21                     T 3586 - In these #COVID19 times a lot of work that you never did before now has to be done single-handedly .. …                      Kurukshetra \n",
              "22          Protect your friends and familly from #coronavirus You must self-isolate for 14 days if you have been in close contact wit…  North Yorkshire-Leeds-North East\n",
              "23         Patient attendant at private hospital-Candolim tested covid positive, hospital shut, doctors and staff sent for home quaran…                                  \n",
              "24                                                                                 #Coronavirus crisis is over. Someone tell the media.                                  "
            ]
          },
          "metadata": {
            "tags": []
          },
          "execution_count": 27
        }
      ]
    },
    {
      "cell_type": "code",
      "metadata": {
        "id": "I9GPD6OFfPEJ",
        "colab_type": "code",
        "colab": {
          "base_uri": "https://localhost:8080/",
          "height": 68
        },
        "outputId": "eb791fc8-0590-40d9-f1df-d2d966a20b77"
      },
      "source": [
        "#library for Sentiment Analysis\n",
        "import nltk\n",
        "from nltk.sentiment.vader import SentimentIntensityAnalyzer\n",
        "nltk.download('vader_lexicon')"
      ],
      "execution_count": null,
      "outputs": [
        {
          "output_type": "stream",
          "text": [
            "[nltk_data] Downloading package vader_lexicon to /root/nltk_data...\n",
            "[nltk_data]   Package vader_lexicon is already up-to-date!\n"
          ],
          "name": "stdout"
        },
        {
          "output_type": "execute_result",
          "data": {
            "text/plain": [
              "True"
            ]
          },
          "metadata": {
            "tags": []
          },
          "execution_count": 28
        }
      ]
    },
    {
      "cell_type": "code",
      "metadata": {
        "id": "TL0Y_AC_tvt5",
        "colab_type": "code",
        "colab": {
          "base_uri": "https://localhost:8080/",
          "height": 824
        },
        "outputId": "2c3a3af3-36ce-4e3c-fe03-13b917fa725e"
      },
      "source": [
        "sia = SentimentIntensityAnalyzer()\n",
        "#getting the sentiment scores of the tweets\n",
        "tweet_df['sentiment_score']=tweet_df['text'].apply(lambda x: sia.polarity_scores(x)['compound'])\n",
        "tweet_df.head(25)"
      ],
      "execution_count": null,
      "outputs": [
        {
          "output_type": "execute_result",
          "data": {
            "text/html": [
              "<div>\n",
              "<style scoped>\n",
              "    .dataframe tbody tr th:only-of-type {\n",
              "        vertical-align: middle;\n",
              "    }\n",
              "\n",
              "    .dataframe tbody tr th {\n",
              "        vertical-align: top;\n",
              "    }\n",
              "\n",
              "    .dataframe thead th {\n",
              "        text-align: right;\n",
              "    }\n",
              "</style>\n",
              "<table border=\"1\" class=\"dataframe\">\n",
              "  <thead>\n",
              "    <tr style=\"text-align: right;\">\n",
              "      <th></th>\n",
              "      <th>text</th>\n",
              "      <th>location</th>\n",
              "      <th>sentiment_score</th>\n",
              "    </tr>\n",
              "  </thead>\n",
              "  <tbody>\n",
              "    <tr>\n",
              "      <th>0</th>\n",
              "      <td>Nigeria records 503 new cases of Coronavirus, total now 29,879#headlines #COVID19 #NCDC #COVID…</td>\n",
              "      <td>Abuja</td>\n",
              "      <td>0.0000</td>\n",
              "    </tr>\n",
              "    <tr>\n",
              "      <th>1</th>\n",
              "      <td>Students' life is more important than exam. In this situation when #Covid19 cases raising day by day, taking examination can be d…</td>\n",
              "      <td></td>\n",
              "      <td>0.2716</td>\n",
              "    </tr>\n",
              "    <tr>\n",
              "      <th>2</th>\n",
              "      <td>#COVID19 #CovidTrackerApp   Scientists warn of potential waveof COVID-linked brain damage</td>\n",
              "      <td>Dublin City, Ireland</td>\n",
              "      <td>-0.5574</td>\n",
              "    </tr>\n",
              "    <tr>\n",
              "      <th>3</th>\n",
              "      <td>Students' life is more important than exam. In this situation when #Covid19 cases raising day by day, taking examination…</td>\n",
              "      <td></td>\n",
              "      <td>0.2716</td>\n",
              "    </tr>\n",
              "    <tr>\n",
              "      <th>4</th>\n",
              "      <td>\"She's the head cook at a local nursing home. These days, she's working up to 75 hours a week, but it still hasn't been e…</td>\n",
              "      <td>Not A Bot, USA</td>\n",
              "      <td>0.0000</td>\n",
              "    </tr>\n",
              "    <tr>\n",
              "      <th>5</th>\n",
              "      <td>Let us get you started with this free webinar on Cyber Security. Save yourself millions of Naira by joining this 1…</td>\n",
              "      <td></td>\n",
              "      <td>0.8582</td>\n",
              "    </tr>\n",
              "    <tr>\n",
              "      <th>6</th>\n",
              "      <td>Don’t plan to celebrate THIS MEMORIAL DAY. Instead plan to MOURN the UNNECESSARY LOSS of 100,000+ lives to #COVID19 T…</td>\n",
              "      <td>Australia</td>\n",
              "      <td>-0.4340</td>\n",
              "    </tr>\n",
              "    <tr>\n",
              "      <th>7</th>\n",
              "      <td>#COVID19 will bump the cosmic mental institution \"Planet Earth\" to the next level.</td>\n",
              "      <td></td>\n",
              "      <td>0.0000</td>\n",
              "    </tr>\n",
              "    <tr>\n",
              "      <th>8</th>\n",
              "      <td>#Disney said Tuesday that the company will continue the phased reopening of its theme parks in #Orlando, #Florida, on Satu…</td>\n",
              "      <td></td>\n",
              "      <td>0.0000</td>\n",
              "    </tr>\n",
              "    <tr>\n",
              "      <th>9</th>\n",
              "      <td>T 3586 - In these #COVID19 times a lot of work that you never did before now has to be done single-handedly .. …</td>\n",
              "      <td>Украина</td>\n",
              "      <td>0.0000</td>\n",
              "    </tr>\n",
              "    <tr>\n",
              "      <th>10</th>\n",
              "      <td>They have a cure for money, daad, cancer..why not for #coronavirus ??They always target H!ndu temples, why can’t we ask…</td>\n",
              "      <td>India</td>\n",
              "      <td>0.0000</td>\n",
              "    </tr>\n",
              "    <tr>\n",
              "      <th>11</th>\n",
              "      <td>Nigeria records 503 new cases of Coronavirus, total now 29,879#headlines #COVID19 #NCDC #COVID…</td>\n",
              "      <td>Abuja, Nigeria</td>\n",
              "      <td>0.0000</td>\n",
              "    </tr>\n",
              "    <tr>\n",
              "      <th>12</th>\n",
              "      <td>More than 100 days after the nationwide #lockdown, Archaeological Survey of #India has allowed the opening of centr…</td>\n",
              "      <td>Tiruchirapalli, India</td>\n",
              "      <td>0.0000</td>\n",
              "    </tr>\n",
              "    <tr>\n",
              "      <th>13</th>\n",
              "      <td>Since the outbreak of #COVID19, violence against women and girls, particularly domestic violence, has intensified.Everyone…</td>\n",
              "      <td>Tunisie</td>\n",
              "      <td>-0.8481</td>\n",
              "    </tr>\n",
              "    <tr>\n",
              "      <th>14</th>\n",
              "      <td>I had a dream of selling 1000 copies of my book #TrappedInLoveAndTrash in order to touch so many lives and help fight the…</td>\n",
              "      <td>QwaQwa,Free State.</td>\n",
              "      <td>0.2732</td>\n",
              "    </tr>\n",
              "    <tr>\n",
              "      <th>15</th>\n",
              "      <td>#MP_Jobless_Poshan_Warrior#MP_Jobless_Poshan_Warrior With due respect we would inform you that POSHAN Abhiyaan MP Team…</td>\n",
              "      <td></td>\n",
              "      <td>0.4767</td>\n",
              "    </tr>\n",
              "    <tr>\n",
              "      <th>16</th>\n",
              "      <td>Students' life is more important than exam. In this situation when #Covid19 cases raising day by day, taking examination can be d…</td>\n",
              "      <td></td>\n",
              "      <td>0.2716</td>\n",
              "    </tr>\n",
              "    <tr>\n",
              "      <th>17</th>\n",
              "      <td>Opinium partnered with  to survey 18 to 24-year olds about #COVID19. The aim was to gain their perspective…</td>\n",
              "      <td>London</td>\n",
              "      <td>0.5267</td>\n",
              "    </tr>\n",
              "    <tr>\n",
              "      <th>18</th>\n",
              "      <td>India is a third worst affected country in the world! 7 lakh #COVID19 cases, almost 20,000 deaths (600+ today).  Yet #UGCGuidel…</td>\n",
              "      <td>New Delhi, India</td>\n",
              "      <td>-0.7177</td>\n",
              "    </tr>\n",
              "    <tr>\n",
              "      <th>19</th>\n",
              "      <td>Florida Tops July 4th Escapes For Americans As #Coronavirus Cases Soar, #AI Reports. (Forbes) #COVIDー19 #COVID19…</td>\n",
              "      <td>Waterloo, Ontario Canada</td>\n",
              "      <td>0.5859</td>\n",
              "    </tr>\n",
              "    <tr>\n",
              "      <th>20</th>\n",
              "      <td>Elderly patient with #COVID19 symptoms jumps to death in Rajasthan</td>\n",
              "      <td>पश्चिम बंगाल, भारत</td>\n",
              "      <td>-0.5994</td>\n",
              "    </tr>\n",
              "    <tr>\n",
              "      <th>21</th>\n",
              "      <td>T 3586 - In these #COVID19 times a lot of work that you never did before now has to be done single-handedly .. …</td>\n",
              "      <td>Kurukshetra</td>\n",
              "      <td>0.0000</td>\n",
              "    </tr>\n",
              "    <tr>\n",
              "      <th>22</th>\n",
              "      <td>Protect your friends and familly from #coronavirus You must self-isolate for 14 days if you have been in close contact wit…</td>\n",
              "      <td>North Yorkshire-Leeds-North East</td>\n",
              "      <td>0.6908</td>\n",
              "    </tr>\n",
              "    <tr>\n",
              "      <th>23</th>\n",
              "      <td>Patient attendant at private hospital-Candolim tested covid positive, hospital shut, doctors and staff sent for home quaran…</td>\n",
              "      <td></td>\n",
              "      <td>0.5574</td>\n",
              "    </tr>\n",
              "    <tr>\n",
              "      <th>24</th>\n",
              "      <td>#Coronavirus crisis is over. Someone tell the media.</td>\n",
              "      <td></td>\n",
              "      <td>-0.6249</td>\n",
              "    </tr>\n",
              "  </tbody>\n",
              "</table>\n",
              "</div>"
            ],
            "text/plain": [
              "                                                                                                                                   text  ... sentiment_score\n",
              "0                                       Nigeria records 503 new cases of Coronavirus, total now 29,879#headlines #COVID19 #NCDC #COVID…  ...          0.0000\n",
              "1    Students' life is more important than exam. In this situation when #Covid19 cases raising day by day, taking examination can be d…  ...          0.2716\n",
              "2                                            #COVID19 #CovidTrackerApp   Scientists warn of potential waveof COVID-linked brain damage   ...         -0.5574\n",
              "3             Students' life is more important than exam. In this situation when #Covid19 cases raising day by day, taking examination…  ...          0.2716\n",
              "4            \"She's the head cook at a local nursing home. These days, she's working up to 75 hours a week, but it still hasn't been e…  ...          0.0000\n",
              "5                  Let us get you started with this free webinar on Cyber Security. Save yourself millions of Naira by joining this 1…   ...          0.8582\n",
              "6                Don’t plan to celebrate THIS MEMORIAL DAY. Instead plan to MOURN the UNNECESSARY LOSS of 100,000+ lives to #COVID19 T…  ...         -0.4340\n",
              "7                                                   #COVID19 will bump the cosmic mental institution \"Planet Earth\" to the next level.   ...          0.0000\n",
              "8           #Disney said Tuesday that the company will continue the phased reopening of its theme parks in #Orlando, #Florida, on Satu…  ...          0.0000\n",
              "9                      T 3586 - In these #COVID19 times a lot of work that you never did before now has to be done single-handedly .. …  ...          0.0000\n",
              "10             They have a cure for money, daad, cancer..why not for #coronavirus ??They always target H!ndu temples, why can’t we ask…  ...          0.0000\n",
              "11                                      Nigeria records 503 new cases of Coronavirus, total now 29,879#headlines #COVID19 #NCDC #COVID…  ...          0.0000\n",
              "12                More than 100 days after the nationwide #lockdown, Archaeological Survey of #India has allowed the opening of centr…   ...          0.0000\n",
              "13          Since the outbreak of #COVID19, violence against women and girls, particularly domestic violence, has intensified.Everyone…  ...         -0.8481\n",
              "14           I had a dream of selling 1000 copies of my book #TrappedInLoveAndTrash in order to touch so many lives and help fight the…  ...          0.2732\n",
              "15              #MP_Jobless_Poshan_Warrior#MP_Jobless_Poshan_Warrior With due respect we would inform you that POSHAN Abhiyaan MP Team…  ...          0.4767\n",
              "16   Students' life is more important than exam. In this situation when #Covid19 cases raising day by day, taking examination can be d…  ...          0.2716\n",
              "17                          Opinium partnered with  to survey 18 to 24-year olds about #COVID19. The aim was to gain their perspective…  ...          0.5267\n",
              "18     India is a third worst affected country in the world! 7 lakh #COVID19 cases, almost 20,000 deaths (600+ today).  Yet #UGCGuidel…  ...         -0.7177\n",
              "19                   Florida Tops July 4th Escapes For Americans As #Coronavirus Cases Soar, #AI Reports. (Forbes) #COVIDー19 #COVID19…   ...          0.5859\n",
              "20                                                                  Elderly patient with #COVID19 symptoms jumps to death in Rajasthan   ...         -0.5994\n",
              "21                     T 3586 - In these #COVID19 times a lot of work that you never did before now has to be done single-handedly .. …  ...          0.0000\n",
              "22          Protect your friends and familly from #coronavirus You must self-isolate for 14 days if you have been in close contact wit…  ...          0.6908\n",
              "23         Patient attendant at private hospital-Candolim tested covid positive, hospital shut, doctors and staff sent for home quaran…  ...          0.5574\n",
              "24                                                                                 #Coronavirus crisis is over. Someone tell the media.  ...         -0.6249\n",
              "\n",
              "[25 rows x 3 columns]"
            ]
          },
          "metadata": {
            "tags": []
          },
          "execution_count": 29
        }
      ]
    },
    {
      "cell_type": "code",
      "metadata": {
        "id": "CK5J6T8LzEYR",
        "colab_type": "code",
        "colab": {
          "base_uri": "https://localhost:8080/",
          "height": 824
        },
        "outputId": "4870eeb3-8eb7-4514-a855-7352908f79db"
      },
      "source": [
        "#overall sentiment of the tweet\n",
        "sentiment=[]\n",
        "for score in tweet_df['sentiment_score']:\n",
        "  if score > 0.33:\n",
        "    sentiment.append(\"Positive\")\n",
        "  elif score < -0.33:\n",
        "    sentiment.append(\"Negative\")\n",
        "  else:\n",
        "    sentiment.append(\"Neutral\")\n",
        "tweet_df['Sentiment']=sentiment\n",
        "tweet_df.head(25)"
      ],
      "execution_count": null,
      "outputs": [
        {
          "output_type": "execute_result",
          "data": {
            "text/html": [
              "<div>\n",
              "<style scoped>\n",
              "    .dataframe tbody tr th:only-of-type {\n",
              "        vertical-align: middle;\n",
              "    }\n",
              "\n",
              "    .dataframe tbody tr th {\n",
              "        vertical-align: top;\n",
              "    }\n",
              "\n",
              "    .dataframe thead th {\n",
              "        text-align: right;\n",
              "    }\n",
              "</style>\n",
              "<table border=\"1\" class=\"dataframe\">\n",
              "  <thead>\n",
              "    <tr style=\"text-align: right;\">\n",
              "      <th></th>\n",
              "      <th>text</th>\n",
              "      <th>location</th>\n",
              "      <th>sentiment_score</th>\n",
              "      <th>Sentiment</th>\n",
              "    </tr>\n",
              "  </thead>\n",
              "  <tbody>\n",
              "    <tr>\n",
              "      <th>0</th>\n",
              "      <td>Nigeria records 503 new cases of Coronavirus, total now 29,879#headlines #COVID19 #NCDC #COVID…</td>\n",
              "      <td>Abuja</td>\n",
              "      <td>0.0000</td>\n",
              "      <td>Neutral</td>\n",
              "    </tr>\n",
              "    <tr>\n",
              "      <th>1</th>\n",
              "      <td>Students' life is more important than exam. In this situation when #Covid19 cases raising day by day, taking examination can be d…</td>\n",
              "      <td></td>\n",
              "      <td>0.2716</td>\n",
              "      <td>Neutral</td>\n",
              "    </tr>\n",
              "    <tr>\n",
              "      <th>2</th>\n",
              "      <td>#COVID19 #CovidTrackerApp   Scientists warn of potential waveof COVID-linked brain damage</td>\n",
              "      <td>Dublin City, Ireland</td>\n",
              "      <td>-0.5574</td>\n",
              "      <td>Negative</td>\n",
              "    </tr>\n",
              "    <tr>\n",
              "      <th>3</th>\n",
              "      <td>Students' life is more important than exam. In this situation when #Covid19 cases raising day by day, taking examination…</td>\n",
              "      <td></td>\n",
              "      <td>0.2716</td>\n",
              "      <td>Neutral</td>\n",
              "    </tr>\n",
              "    <tr>\n",
              "      <th>4</th>\n",
              "      <td>\"She's the head cook at a local nursing home. These days, she's working up to 75 hours a week, but it still hasn't been e…</td>\n",
              "      <td>Not A Bot, USA</td>\n",
              "      <td>0.0000</td>\n",
              "      <td>Neutral</td>\n",
              "    </tr>\n",
              "    <tr>\n",
              "      <th>5</th>\n",
              "      <td>Let us get you started with this free webinar on Cyber Security. Save yourself millions of Naira by joining this 1…</td>\n",
              "      <td></td>\n",
              "      <td>0.8582</td>\n",
              "      <td>Positive</td>\n",
              "    </tr>\n",
              "    <tr>\n",
              "      <th>6</th>\n",
              "      <td>Don’t plan to celebrate THIS MEMORIAL DAY. Instead plan to MOURN the UNNECESSARY LOSS of 100,000+ lives to #COVID19 T…</td>\n",
              "      <td>Australia</td>\n",
              "      <td>-0.4340</td>\n",
              "      <td>Negative</td>\n",
              "    </tr>\n",
              "    <tr>\n",
              "      <th>7</th>\n",
              "      <td>#COVID19 will bump the cosmic mental institution \"Planet Earth\" to the next level.</td>\n",
              "      <td></td>\n",
              "      <td>0.0000</td>\n",
              "      <td>Neutral</td>\n",
              "    </tr>\n",
              "    <tr>\n",
              "      <th>8</th>\n",
              "      <td>#Disney said Tuesday that the company will continue the phased reopening of its theme parks in #Orlando, #Florida, on Satu…</td>\n",
              "      <td></td>\n",
              "      <td>0.0000</td>\n",
              "      <td>Neutral</td>\n",
              "    </tr>\n",
              "    <tr>\n",
              "      <th>9</th>\n",
              "      <td>T 3586 - In these #COVID19 times a lot of work that you never did before now has to be done single-handedly .. …</td>\n",
              "      <td>Украина</td>\n",
              "      <td>0.0000</td>\n",
              "      <td>Neutral</td>\n",
              "    </tr>\n",
              "    <tr>\n",
              "      <th>10</th>\n",
              "      <td>They have a cure for money, daad, cancer..why not for #coronavirus ??They always target H!ndu temples, why can’t we ask…</td>\n",
              "      <td>India</td>\n",
              "      <td>0.0000</td>\n",
              "      <td>Neutral</td>\n",
              "    </tr>\n",
              "    <tr>\n",
              "      <th>11</th>\n",
              "      <td>Nigeria records 503 new cases of Coronavirus, total now 29,879#headlines #COVID19 #NCDC #COVID…</td>\n",
              "      <td>Abuja, Nigeria</td>\n",
              "      <td>0.0000</td>\n",
              "      <td>Neutral</td>\n",
              "    </tr>\n",
              "    <tr>\n",
              "      <th>12</th>\n",
              "      <td>More than 100 days after the nationwide #lockdown, Archaeological Survey of #India has allowed the opening of centr…</td>\n",
              "      <td>Tiruchirapalli, India</td>\n",
              "      <td>0.0000</td>\n",
              "      <td>Neutral</td>\n",
              "    </tr>\n",
              "    <tr>\n",
              "      <th>13</th>\n",
              "      <td>Since the outbreak of #COVID19, violence against women and girls, particularly domestic violence, has intensified.Everyone…</td>\n",
              "      <td>Tunisie</td>\n",
              "      <td>-0.8481</td>\n",
              "      <td>Negative</td>\n",
              "    </tr>\n",
              "    <tr>\n",
              "      <th>14</th>\n",
              "      <td>I had a dream of selling 1000 copies of my book #TrappedInLoveAndTrash in order to touch so many lives and help fight the…</td>\n",
              "      <td>QwaQwa,Free State.</td>\n",
              "      <td>0.2732</td>\n",
              "      <td>Neutral</td>\n",
              "    </tr>\n",
              "    <tr>\n",
              "      <th>15</th>\n",
              "      <td>#MP_Jobless_Poshan_Warrior#MP_Jobless_Poshan_Warrior With due respect we would inform you that POSHAN Abhiyaan MP Team…</td>\n",
              "      <td></td>\n",
              "      <td>0.4767</td>\n",
              "      <td>Positive</td>\n",
              "    </tr>\n",
              "    <tr>\n",
              "      <th>16</th>\n",
              "      <td>Students' life is more important than exam. In this situation when #Covid19 cases raising day by day, taking examination can be d…</td>\n",
              "      <td></td>\n",
              "      <td>0.2716</td>\n",
              "      <td>Neutral</td>\n",
              "    </tr>\n",
              "    <tr>\n",
              "      <th>17</th>\n",
              "      <td>Opinium partnered with  to survey 18 to 24-year olds about #COVID19. The aim was to gain their perspective…</td>\n",
              "      <td>London</td>\n",
              "      <td>0.5267</td>\n",
              "      <td>Positive</td>\n",
              "    </tr>\n",
              "    <tr>\n",
              "      <th>18</th>\n",
              "      <td>India is a third worst affected country in the world! 7 lakh #COVID19 cases, almost 20,000 deaths (600+ today).  Yet #UGCGuidel…</td>\n",
              "      <td>New Delhi, India</td>\n",
              "      <td>-0.7177</td>\n",
              "      <td>Negative</td>\n",
              "    </tr>\n",
              "    <tr>\n",
              "      <th>19</th>\n",
              "      <td>Florida Tops July 4th Escapes For Americans As #Coronavirus Cases Soar, #AI Reports. (Forbes) #COVIDー19 #COVID19…</td>\n",
              "      <td>Waterloo, Ontario Canada</td>\n",
              "      <td>0.5859</td>\n",
              "      <td>Positive</td>\n",
              "    </tr>\n",
              "    <tr>\n",
              "      <th>20</th>\n",
              "      <td>Elderly patient with #COVID19 symptoms jumps to death in Rajasthan</td>\n",
              "      <td>पश्चिम बंगाल, भारत</td>\n",
              "      <td>-0.5994</td>\n",
              "      <td>Negative</td>\n",
              "    </tr>\n",
              "    <tr>\n",
              "      <th>21</th>\n",
              "      <td>T 3586 - In these #COVID19 times a lot of work that you never did before now has to be done single-handedly .. …</td>\n",
              "      <td>Kurukshetra</td>\n",
              "      <td>0.0000</td>\n",
              "      <td>Neutral</td>\n",
              "    </tr>\n",
              "    <tr>\n",
              "      <th>22</th>\n",
              "      <td>Protect your friends and familly from #coronavirus You must self-isolate for 14 days if you have been in close contact wit…</td>\n",
              "      <td>North Yorkshire-Leeds-North East</td>\n",
              "      <td>0.6908</td>\n",
              "      <td>Positive</td>\n",
              "    </tr>\n",
              "    <tr>\n",
              "      <th>23</th>\n",
              "      <td>Patient attendant at private hospital-Candolim tested covid positive, hospital shut, doctors and staff sent for home quaran…</td>\n",
              "      <td></td>\n",
              "      <td>0.5574</td>\n",
              "      <td>Positive</td>\n",
              "    </tr>\n",
              "    <tr>\n",
              "      <th>24</th>\n",
              "      <td>#Coronavirus crisis is over. Someone tell the media.</td>\n",
              "      <td></td>\n",
              "      <td>-0.6249</td>\n",
              "      <td>Negative</td>\n",
              "    </tr>\n",
              "  </tbody>\n",
              "</table>\n",
              "</div>"
            ],
            "text/plain": [
              "                                                                                                                                   text  ... Sentiment\n",
              "0                                       Nigeria records 503 new cases of Coronavirus, total now 29,879#headlines #COVID19 #NCDC #COVID…  ...   Neutral\n",
              "1    Students' life is more important than exam. In this situation when #Covid19 cases raising day by day, taking examination can be d…  ...   Neutral\n",
              "2                                            #COVID19 #CovidTrackerApp   Scientists warn of potential waveof COVID-linked brain damage   ...  Negative\n",
              "3             Students' life is more important than exam. In this situation when #Covid19 cases raising day by day, taking examination…  ...   Neutral\n",
              "4            \"She's the head cook at a local nursing home. These days, she's working up to 75 hours a week, but it still hasn't been e…  ...   Neutral\n",
              "5                  Let us get you started with this free webinar on Cyber Security. Save yourself millions of Naira by joining this 1…   ...  Positive\n",
              "6                Don’t plan to celebrate THIS MEMORIAL DAY. Instead plan to MOURN the UNNECESSARY LOSS of 100,000+ lives to #COVID19 T…  ...  Negative\n",
              "7                                                   #COVID19 will bump the cosmic mental institution \"Planet Earth\" to the next level.   ...   Neutral\n",
              "8           #Disney said Tuesday that the company will continue the phased reopening of its theme parks in #Orlando, #Florida, on Satu…  ...   Neutral\n",
              "9                      T 3586 - In these #COVID19 times a lot of work that you never did before now has to be done single-handedly .. …  ...   Neutral\n",
              "10             They have a cure for money, daad, cancer..why not for #coronavirus ??They always target H!ndu temples, why can’t we ask…  ...   Neutral\n",
              "11                                      Nigeria records 503 new cases of Coronavirus, total now 29,879#headlines #COVID19 #NCDC #COVID…  ...   Neutral\n",
              "12                More than 100 days after the nationwide #lockdown, Archaeological Survey of #India has allowed the opening of centr…   ...   Neutral\n",
              "13          Since the outbreak of #COVID19, violence against women and girls, particularly domestic violence, has intensified.Everyone…  ...  Negative\n",
              "14           I had a dream of selling 1000 copies of my book #TrappedInLoveAndTrash in order to touch so many lives and help fight the…  ...   Neutral\n",
              "15              #MP_Jobless_Poshan_Warrior#MP_Jobless_Poshan_Warrior With due respect we would inform you that POSHAN Abhiyaan MP Team…  ...  Positive\n",
              "16   Students' life is more important than exam. In this situation when #Covid19 cases raising day by day, taking examination can be d…  ...   Neutral\n",
              "17                          Opinium partnered with  to survey 18 to 24-year olds about #COVID19. The aim was to gain their perspective…  ...  Positive\n",
              "18     India is a third worst affected country in the world! 7 lakh #COVID19 cases, almost 20,000 deaths (600+ today).  Yet #UGCGuidel…  ...  Negative\n",
              "19                   Florida Tops July 4th Escapes For Americans As #Coronavirus Cases Soar, #AI Reports. (Forbes) #COVIDー19 #COVID19…   ...  Positive\n",
              "20                                                                  Elderly patient with #COVID19 symptoms jumps to death in Rajasthan   ...  Negative\n",
              "21                     T 3586 - In these #COVID19 times a lot of work that you never did before now has to be done single-handedly .. …  ...   Neutral\n",
              "22          Protect your friends and familly from #coronavirus You must self-isolate for 14 days if you have been in close contact wit…  ...  Positive\n",
              "23         Patient attendant at private hospital-Candolim tested covid positive, hospital shut, doctors and staff sent for home quaran…  ...  Positive\n",
              "24                                                                                 #Coronavirus crisis is over. Someone tell the media.  ...  Negative\n",
              "\n",
              "[25 rows x 4 columns]"
            ]
          },
          "metadata": {
            "tags": []
          },
          "execution_count": 30
        }
      ]
    },
    {
      "cell_type": "code",
      "metadata": {
        "id": "QKL1NNV9Nfjg",
        "colab_type": "code",
        "colab": {}
      },
      "source": [
        "tweet_df.to_csv(\"tweets.csv\")"
      ],
      "execution_count": null,
      "outputs": []
    },
    {
      "cell_type": "code",
      "metadata": {
        "id": "e-PkIu-VgmOJ",
        "colab_type": "code",
        "colab": {
          "base_uri": "https://localhost:8080/",
          "height": 265
        },
        "outputId": "526665cb-4aab-47b7-a1fd-1343ba9d9818"
      },
      "source": [
        "tweet_df['Sentiment'].value_counts().plot(kind='pie')"
      ],
      "execution_count": null,
      "outputs": [
        {
          "output_type": "execute_result",
          "data": {
            "text/plain": [
              "<matplotlib.axes._subplots.AxesSubplot at 0x7f3737874e48>"
            ]
          },
          "metadata": {
            "tags": []
          },
          "execution_count": 33
        },
        {
          "output_type": "display_data",
          "data": {
            "image/png": "[encoded data removed]",
            "text/plain": [
              "<Figure size 432x288 with 1 Axes>"
            ]
          },
          "metadata": {
            "tags": []
          }
        }
      ]
    }
  ]
}